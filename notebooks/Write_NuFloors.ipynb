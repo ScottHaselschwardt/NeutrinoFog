{
 "cells": [
  {
   "cell_type": "markdown",
   "metadata": {},
   "source": [
    "# Spin independent"
   ]
  },
  {
   "cell_type": "code",
   "execution_count": null,
   "metadata": {},
   "outputs": [],
   "source": [
    "import sys\n",
    "sys.path.append('../src')\n",
    "from numpy import *\n",
    "from Like import *\n",
    "\n",
    "fname = 'DLNuFloor_detailed'\n",
    "fnucs = ['Xe','Ge','Ar','NaI','F','CaWO4','He']\n",
    "froot = 'SI'\n",
    "\n",
    "for fnuc in fnucs:\n",
    "    data = loadtxt(fname+'_'+fnuc+'_'+froot+'.txt')\n",
    "    m,sig,NUFLOOR,DY = Floor_2D(data,filt=True,filt_width=2,Ex_crit=1e10)\n",
    "    X = column_stack((m,NUFLOOR))\n",
    "\n",
    "    head = froot+' neutrino floor for '+fnuc+' \\n Column 1 = Mass [GeV] \\n Column 2 = ross section [cm^2]'\n",
    "    savetxt('../data/floors/NeutrinoFloor_'+fnuc+'_'+froot+'.txt', X, delimiter=' ',header=head,fmt='%10.5f')"
   ]
  },
  {
   "cell_type": "markdown",
   "metadata": {},
   "source": [
    "# Spin dependent (proton)"
   ]
  },
  {
   "cell_type": "code",
   "execution_count": null,
   "metadata": {},
   "outputs": [],
   "source": [
    "fname = 'DLNuFloor_detailed'\n",
    "fnucs = ['Xe','Ge','Si','F','NaI']\n",
    "froot = 'SDp'\n",
    "\n",
    "for fnuc in fnucs:\n",
    "    data = loadtxt(fname+'_'+fnuc+'_'+froot+'.txt')\n",
    "    m,sig,NUFLOOR,DY = Floor_2D(data,filt=True,filt_width=2,Ex_crit=1e10)\n",
    "    X = column_stack((m,NUFLOOR))\n",
    "\n",
    "    head = froot+' neutrino floor for '+fnuc+' \\n Column 1 = Mass [GeV] \\n Column 2 = ross section [cm^2]'\n",
    "    savetxt('../data/floors/NeutrinoFloor_'+fnuc+'_'+froot+'.txt', X, delimiter=' ',header=head,fmt='%10.5f')"
   ]
  },
  {
   "cell_type": "markdown",
   "metadata": {},
   "source": [
    "# Spin dependent (neutron)"
   ]
  },
  {
   "cell_type": "code",
   "execution_count": null,
   "metadata": {},
   "outputs": [],
   "source": [
    "fname = 'DLNuFloor_detailed'\n",
    "fnucs = ['Xe','NaI']\n",
    "froot = 'SDn'\n",
    "\n",
    "for fnuc in fnucs:\n",
    "    data = loadtxt(fname+'_'+fnuc+'_'+froot+'.txt')\n",
    "    m,sig,NUFLOOR,DY = Floor_2D(data,filt=True,filt_width=2,Ex_crit=1e10)\n",
    "    X = column_stack((m,NUFLOOR))\n",
    "\n",
    "    head = froot+' neutrino floor for '+fnuc+' \\n Column 1 = Mass [GeV] \\n Column 2 = ross section [cm^2]'\n",
    "    savetxt('../data/floors/NeutrinoFloor_'+fnuc+'_'+froot+'.txt', X, delimiter=' ',header=head,fmt='%10.5f')\n",
    "    \n",
    "\n",
    "# Rescale germanium\n",
    "fnuc = 'Ge'\n",
    "C = WIMPFuncs.C_SDp(Ge73)/WIMPFuncs.C_SDn(Ge73)\n",
    "data = loadtxt(fname+'_'+fnuc+'_'+froot+'.txt')\n",
    "m,sig,NUFLOOR,DY = Floor_2D(data,filt=True,filt_width=2,Ex_crit=1e10)\n",
    "X = column_stack((m,NUFLOOR))\n",
    "head = froot+' neutrino floor for '+fnuc+' \\n Column 1 = Mass [GeV] \\n Column 2 = ross section [cm^2]'\n",
    "savetxt('../data/floors/NeutrinoFloor_'+fnuc+'_'+froot+'.txt', X, delimiter=' ',header=head,fmt='%10.5f')\n",
    "\n",
    "# Rescale Silicon\n",
    "fnuc = 'Si'\n",
    "C = WIMPFuncs.C_SDp(Si29)/WIMPFuncs.C_SDn(Si29)\n",
    "data = loadtxt(fname+'_'+fnuc+'_'+froot+'.txt')\n",
    "m,sig,NUFLOOR,DY = Floor_2D(data,filt=True,filt_width=2,Ex_crit=1e10)\n",
    "X = column_stack((m,NUFLOOR))\n",
    "head = froot+' neutrino floor for '+fnuc+' \\n Column 1 = Mass [GeV] \\n Column 2 = ross section [cm^2]'\n",
    "savetxt('../data/floors/NeutrinoFloor_'+fnuc+'_'+froot+'.txt', X, delimiter=' ',header=head,fmt='%10.5f')"
   ]
  }
 ],
 "metadata": {
  "kernelspec": {
   "display_name": "Python 3",
   "language": "python",
   "name": "python3"
  },
  "language_info": {
   "codemirror_mode": {
    "name": "ipython",
    "version": 3
   },
   "file_extension": ".py",
   "mimetype": "text/x-python",
   "name": "python",
   "nbconvert_exporter": "python",
   "pygments_lexer": "ipython3",
   "version": "3.7.6"
  }
 },
 "nbformat": 4,
 "nbformat_minor": 4
}
